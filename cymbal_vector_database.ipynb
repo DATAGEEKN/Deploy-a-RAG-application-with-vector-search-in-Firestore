{
  "cells": [
    {
      "cell_type": "code",
      "id": "040A6IlhJai39rrhHkCqlMc5",
      "metadata": {
        "tags": [],
        "id": "040A6IlhJai39rrhHkCqlMc5",
        "executionInfo": {
          "status": "ok",
          "timestamp": 1730228329934,
          "user_tz": -120,
          "elapsed": 5523,
          "user": {
            "displayName": "",
            "userId": ""
          }
        }
      },
      "source": [
        "!pip install --quiet --upgrade google_cloud_firestore google_cloud_aiplatform langchain langchain-google-vertexai langchain_community langchain_experimental pymupdf"
      ],
      "execution_count": 7,
      "outputs": []
    },
    {
      "cell_type": "code",
      "source": [
        "import vertexai\n",
        "from vertexai.language_models import TextEmbeddingModel\n",
        "from vertexai.generative_models import GenerativeModel\n",
        "\n",
        "import pickle\n",
        "from IPython.display import display, Markdown\n",
        "\n",
        "from langchain_google_vertexai import VertexAIEmbeddings\n",
        "from langchain_community.document_loaders import PyMuPDFLoader\n",
        "from langchain_experimental.text_splitter import SemanticChunker\n",
        "\n",
        "from google.cloud import firestore\n",
        "from google.cloud.firestore_v1.vector import Vector\n",
        "from google.cloud.firestore_v1.base_vector_query import DistanceMeasure\n",
        "\n"
      ],
      "metadata": {
        "id": "-T4KNpBYmVDu",
        "executionInfo": {
          "status": "ok",
          "timestamp": 1730228333452,
          "user_tz": -120,
          "elapsed": 3,
          "user": {
            "displayName": "",
            "userId": ""
          }
        }
      },
      "id": "-T4KNpBYmVDu",
      "execution_count": 8,
      "outputs": []
    },
    {
      "cell_type": "code",
      "source": [],
      "metadata": {
        "id": "sZ73Q-E79U19"
      },
      "id": "sZ73Q-E79U19",
      "execution_count": null,
      "outputs": []
    },
    {
      "cell_type": "code",
      "source": [
        "# Initialize Vertex AI with your project-id and a location\n",
        "PROJECT_ID = \"qwiklabs-gcp-00-3a6c7247b9bd\"\n",
        "LOCATION = \"us-central1\"  # @param {type:\"string\"}\n",
        "print(PROJECT_ID)\n",
        "vertexai.init(project=PROJECT_ID, location=LOCATION)"
      ],
      "metadata": {
        "colab": {
          "base_uri": "https://localhost:8080/"
        },
        "id": "08hVJDY6mdm2",
        "executionInfo": {
          "status": "ok",
          "timestamp": 1730228342297,
          "user_tz": -120,
          "elapsed": 581,
          "user": {
            "displayName": "",
            "userId": ""
          }
        },
        "outputId": "284ef393-ee4f-4326-d018-c49fcae75df6"
      },
      "id": "08hVJDY6mdm2",
      "execution_count": 10,
      "outputs": [
        {
          "output_type": "stream",
          "name": "stdout",
          "text": [
            "qwiklabs-gcp-00-3a6c7247b9bd\n"
          ]
        }
      ]
    },
    {
      "cell_type": "code",
      "source": [
        "# Populate a variable named embedding_model with an instance of the\n",
        "# langchain_google_vertexai class VertexAIEmbeddings.\n",
        "\n",
        "from langchain_google_vertexai import VertexAIEmbeddings\n",
        "embedding_model = VertexAIEmbeddings(model_name=\"text-embedding-004\")\n",
        "\n",
        "# Download the New York City Department of Health and Mental Hygiene's Food\n",
        "# Protection Training Manual. This document will serve as our RAG source content.\n",
        "!gcloud storage cp gs://<bucket>/nyc_food_safety_manual.pdf .\n",
        "\n",
        "# Use the LangChain class PyMuPDFLoader to load the contents of the PDF\n",
        "from langchain_community.document_loaders import PyMuPDFLoader\n",
        "loader = PyMuPDFLoader(\"./nyc_food_safety_manual.pdf\")\n",
        "data = loader.load()\n",
        "\n",
        "# Create a function to do some basic cleaning on artifacts found in this particular document.\n",
        "def clean_page(page):\n",
        "  return page.page_content.replace(\"-\\n\",\"\")\\\n",
        "                          .replace(\"\\n\",\" \")\\\n",
        "                          .replace(\"\\x02\",\"\")\\\n",
        "                          .replace(\"\\x03\",\"\")\\\n",
        "                          .replace(\"fo d P R O T E C T I O N  T R A I N I N G  M A N U A L\",\"\")\\\n",
        "                          .replace(\"N E W  Y O R K  C I T Y  D E P A R T M E N T  O F  H E A L T H  &  M E N T A L  H Y G I E N E\",\"\")\n"
      ],
      "metadata": {
        "colab": {
          "base_uri": "https://localhost:8080/"
        },
        "id": "hbG_nfeWmhn_",
        "executionInfo": {
          "status": "ok",
          "timestamp": 1730228344648,
          "user_tz": -120,
          "elapsed": 572,
          "user": {
            "displayName": "",
            "userId": ""
          }
        },
        "outputId": "cc6ddb65-c22a-44b0-e779-47eff13aa321"
      },
      "id": "hbG_nfeWmhn_",
      "execution_count": 11,
      "outputs": [
        {
          "output_type": "stream",
          "name": "stdout",
          "text": [
            "/bin/bash: line 1: bucket: No such file or directory\n"
          ]
        }
      ]
    },
    {
      "cell_type": "code",
      "source": [
        "# Create a variable called cleaned_pages that is a list of strings, with each string being a page of content cleaned by above function.\n",
        "cleaned_pages = []\n",
        "for pages in data:\n",
        "  cleaned_pages.append(clean_page(pages))"
      ],
      "metadata": {
        "id": "ZTShGogKmhrA",
        "executionInfo": {
          "status": "ok",
          "timestamp": 1730228351175,
          "user_tz": -120,
          "elapsed": 569,
          "user": {
            "displayName": "",
            "userId": ""
          }
        }
      },
      "id": "ZTShGogKmhrA",
      "execution_count": 12,
      "outputs": []
    },
    {
      "cell_type": "code",
      "source": [
        "# Use LangChain's SemanticChunker with the embedding_model created earlier to split the first five pages of cleaned_pages into text chunks.\n",
        "text_splitter = SemanticChunker(embedding_model)\n",
        "docs = text_splitter.create_documents(cleaned_pages[0:4])\n",
        "chunked_content = [doc.page_content for doc in docs]\n"
      ],
      "metadata": {
        "id": "mnuyy_KTmhu3",
        "executionInfo": {
          "status": "ok",
          "timestamp": 1730228356949,
          "user_tz": -120,
          "elapsed": 1728,
          "user": {
            "displayName": "",
            "userId": ""
          }
        }
      },
      "id": "mnuyy_KTmhu3",
      "execution_count": 13,
      "outputs": []
    },
    {
      "cell_type": "code",
      "source": [
        "# Use the embedding_model to generate embeddings of the text chunks, saving them to a list called chunked_embeddings.\n",
        "chunked_embeddings = embedding_model.embed_documents(chunked_content)\n",
        "\n"
      ],
      "metadata": {
        "id": "ZIKj0Cnvmhxr",
        "executionInfo": {
          "status": "ok",
          "timestamp": 1730228363551,
          "user_tz": -120,
          "elapsed": 576,
          "user": {
            "displayName": "",
            "userId": ""
          }
        }
      },
      "id": "ZIKj0Cnvmhxr",
      "execution_count": 14,
      "outputs": []
    },
    {
      "cell_type": "code",
      "source": [
        "!gsutil cp gs://partner-genai-bucket/genai069/chunked_content.pkl .\n",
        "!gsutil cp gs://partner-genai-bucket/genai069/chunked_embeddings.pkl .\n",
        "\n",
        "chunked_content = pickle.load(open(\"chunked_content.pkl\", \"rb\"))\n",
        "chunked_embeddings = pickle.load(open(\"chunked_embeddings.pkl\", \"rb\"))"
      ],
      "metadata": {
        "colab": {
          "base_uri": "https://localhost:8080/"
        },
        "id": "IlT7ycPqpglf",
        "executionInfo": {
          "status": "ok",
          "timestamp": 1730228402785,
          "user_tz": -120,
          "elapsed": 6326,
          "user": {
            "displayName": "",
            "userId": ""
          }
        },
        "outputId": "99f4ef3f-355b-43b2-d773-bbb9cef313f0"
      },
      "id": "IlT7ycPqpglf",
      "execution_count": 15,
      "outputs": [
        {
          "output_type": "stream",
          "name": "stdout",
          "text": [
            "Copying gs://partner-genai-bucket/genai069/chunked_content.pkl...\n",
            "/ [1 files][280.7 KiB/280.7 KiB]                                                \n",
            "Operation completed over 1 objects/280.7 KiB.                                    \n",
            "Copying gs://partner-genai-bucket/genai069/chunked_embeddings.pkl...\n",
            "/ [1 files][  1.8 MiB/  1.8 MiB]                                                \n",
            "Operation completed over 1 objects/1.8 MiB.                                      \n"
          ]
        }
      ]
    },
    {
      "cell_type": "code",
      "source": [
        " #Above code only chunks & create embeddings of a short section of the\n",
        "# document for demo purpose. To get the chunks & corresponding embeddings for\n",
        "# the full document, run the following code to download pre-created chunks\n",
        "# & embeddings\n",
        "!gsutil cp gs://<bucket>/chunked_content.pkl .\n",
        "!gsutil cp gs://<bucket>/chunked_embeddings.pkl .\n",
        "chunked_content = pickle.load(open(\"chunked_content.pkl\", \"rb\"))\n",
        "chunked_embeddings = pickle.load(open(\"chunked_embeddings.pkl\", \"rb\"))\n",
        "\n"
      ],
      "metadata": {
        "colab": {
          "base_uri": "https://localhost:8080/"
        },
        "id": "Rwx9zprYoCLk",
        "executionInfo": {
          "status": "ok",
          "timestamp": 1730228410536,
          "user_tz": -120,
          "elapsed": 593,
          "user": {
            "displayName": "",
            "userId": ""
          }
        },
        "outputId": "6c583f4b-9672-4f10-b7ac-14b30bb08c9d"
      },
      "id": "Rwx9zprYoCLk",
      "execution_count": 16,
      "outputs": [
        {
          "output_type": "stream",
          "name": "stdout",
          "text": [
            "/bin/bash: line 1: bucket: No such file or directory\n",
            "/bin/bash: line 1: bucket: No such file or directory\n"
          ]
        }
      ]
    },
    {
      "cell_type": "code",
      "source": [
        "# Create a Firestore database using console with the default name of (default)\n",
        "# in Native Mode and leave the other settings to default.\n",
        "\n",
        "from google.cloud import firestore\n",
        "\n",
        "# Initialize Firestore client\n",
        "db = firestore.Client()\n",
        "\n",
        "# Create reference to \"food-safety\" collection\n",
        "collection = db.collection('food-safety')"
      ],
      "metadata": {
        "id": "zZTf9qgyoCM8",
        "executionInfo": {
          "status": "ok",
          "timestamp": 1730228887652,
          "user_tz": -120,
          "elapsed": 569,
          "user": {
            "displayName": "",
            "userId": ""
          }
        }
      },
      "id": "zZTf9qgyoCM8",
      "execution_count": 23,
      "outputs": []
    },
    {
      "cell_type": "code",
      "source": [
        "from google.cloud import firestore\n",
        "\n",
        "db = firestore.Client(project='qwiklabs-gcp-00-3a6c7247b9bd')"
      ],
      "metadata": {
        "id": "SN1UnV1LsbD5",
        "executionInfo": {
          "status": "ok",
          "timestamp": 1730229159099,
          "user_tz": -120,
          "elapsed": 4,
          "user": {
            "displayName": "",
            "userId": ""
          }
        }
      },
      "id": "SN1UnV1LsbD5",
      "execution_count": 28,
      "outputs": []
    },
    {
      "cell_type": "code",
      "source": [
        "collection = db.collection('food-safety')"
      ],
      "metadata": {
        "id": "d12ZmpDYsfNk",
        "executionInfo": {
          "status": "ok",
          "timestamp": 1730229176138,
          "user_tz": -120,
          "elapsed": 584,
          "user": {
            "displayName": "",
            "userId": ""
          }
        }
      },
      "id": "d12ZmpDYsfNk",
      "execution_count": 29,
      "outputs": []
    },
    {
      "cell_type": "code",
      "source": [
        "!pip install --upgrade google-cloud-firestore"
      ],
      "metadata": {
        "colab": {
          "base_uri": "https://localhost:8080/"
        },
        "id": "kghvEZF_tBJD",
        "executionInfo": {
          "status": "ok",
          "timestamp": 1730229318310,
          "user_tz": -120,
          "elapsed": 4001,
          "user": {
            "displayName": "",
            "userId": ""
          }
        },
        "outputId": "5391e706-4abc-4245-9d6b-79f14306c470"
      },
      "id": "kghvEZF_tBJD",
      "execution_count": 32,
      "outputs": [
        {
          "output_type": "stream",
          "name": "stdout",
          "text": [
            "Requirement already satisfied: google-cloud-firestore in /usr/local/lib/python3.10/dist-packages (2.19.0)\n",
            "Requirement already satisfied: google-api-core!=2.0.*,!=2.1.*,!=2.10.*,!=2.2.*,!=2.3.*,!=2.4.*,!=2.5.*,!=2.6.*,!=2.7.*,!=2.8.*,!=2.9.*,<3.0.0dev,>=1.34.0 in /usr/local/lib/python3.10/dist-packages (from google-api-core[grpc]!=2.0.*,!=2.1.*,!=2.10.*,!=2.2.*,!=2.3.*,!=2.4.*,!=2.5.*,!=2.6.*,!=2.7.*,!=2.8.*,!=2.9.*,<3.0.0dev,>=1.34.0->google-cloud-firestore) (2.19.2)\n",
            "Requirement already satisfied: google-auth!=2.24.0,!=2.25.0,<3.0.0dev,>=2.14.1 in /usr/local/lib/python3.10/dist-packages (from google-cloud-firestore) (2.27.0)\n",
            "Requirement already satisfied: google-cloud-core<3.0.0dev,>=1.4.1 in /usr/local/lib/python3.10/dist-packages (from google-cloud-firestore) (2.4.1)\n",
            "Requirement already satisfied: proto-plus<2.0.0dev,>=1.22.0 in /usr/local/lib/python3.10/dist-packages (from google-cloud-firestore) (1.24.0)\n",
            "Requirement already satisfied: protobuf!=3.20.0,!=3.20.1,!=4.21.0,!=4.21.1,!=4.21.2,!=4.21.3,!=4.21.4,!=4.21.5,<6.0.0dev,>=3.20.2 in /usr/local/lib/python3.10/dist-packages (from google-cloud-firestore) (3.20.3)\n",
            "Requirement already satisfied: googleapis-common-protos<2.0.dev0,>=1.56.2 in /usr/local/lib/python3.10/dist-packages (from google-api-core!=2.0.*,!=2.1.*,!=2.10.*,!=2.2.*,!=2.3.*,!=2.4.*,!=2.5.*,!=2.6.*,!=2.7.*,!=2.8.*,!=2.9.*,<3.0.0dev,>=1.34.0->google-api-core[grpc]!=2.0.*,!=2.1.*,!=2.10.*,!=2.2.*,!=2.3.*,!=2.4.*,!=2.5.*,!=2.6.*,!=2.7.*,!=2.8.*,!=2.9.*,<3.0.0dev,>=1.34.0->google-cloud-firestore) (1.65.0)\n",
            "Requirement already satisfied: requests<3.0.0.dev0,>=2.18.0 in /usr/local/lib/python3.10/dist-packages (from google-api-core!=2.0.*,!=2.1.*,!=2.10.*,!=2.2.*,!=2.3.*,!=2.4.*,!=2.5.*,!=2.6.*,!=2.7.*,!=2.8.*,!=2.9.*,<3.0.0dev,>=1.34.0->google-api-core[grpc]!=2.0.*,!=2.1.*,!=2.10.*,!=2.2.*,!=2.3.*,!=2.4.*,!=2.5.*,!=2.6.*,!=2.7.*,!=2.8.*,!=2.9.*,<3.0.0dev,>=1.34.0->google-cloud-firestore) (2.32.3)\n",
            "Requirement already satisfied: grpcio<2.0dev,>=1.33.2 in /usr/local/lib/python3.10/dist-packages (from google-api-core[grpc]!=2.0.*,!=2.1.*,!=2.10.*,!=2.2.*,!=2.3.*,!=2.4.*,!=2.5.*,!=2.6.*,!=2.7.*,!=2.8.*,!=2.9.*,<3.0.0dev,>=1.34.0->google-cloud-firestore) (1.64.1)\n",
            "Requirement already satisfied: grpcio-status<2.0.dev0,>=1.33.2 in /usr/local/lib/python3.10/dist-packages (from google-api-core[grpc]!=2.0.*,!=2.1.*,!=2.10.*,!=2.2.*,!=2.3.*,!=2.4.*,!=2.5.*,!=2.6.*,!=2.7.*,!=2.8.*,!=2.9.*,<3.0.0dev,>=1.34.0->google-cloud-firestore) (1.48.2)\n",
            "Requirement already satisfied: cachetools<6.0,>=2.0.0 in /usr/local/lib/python3.10/dist-packages (from google-auth!=2.24.0,!=2.25.0,<3.0.0dev,>=2.14.1->google-cloud-firestore) (5.5.0)\n",
            "Requirement already satisfied: pyasn1-modules>=0.2.1 in /usr/local/lib/python3.10/dist-packages (from google-auth!=2.24.0,!=2.25.0,<3.0.0dev,>=2.14.1->google-cloud-firestore) (0.4.1)\n",
            "Requirement already satisfied: rsa<5,>=3.1.4 in /usr/local/lib/python3.10/dist-packages (from google-auth!=2.24.0,!=2.25.0,<3.0.0dev,>=2.14.1->google-cloud-firestore) (4.9)\n",
            "Requirement already satisfied: pyasn1<0.7.0,>=0.4.6 in /usr/local/lib/python3.10/dist-packages (from pyasn1-modules>=0.2.1->google-auth!=2.24.0,!=2.25.0,<3.0.0dev,>=2.14.1->google-cloud-firestore) (0.6.1)\n",
            "Requirement already satisfied: charset-normalizer<4,>=2 in /usr/local/lib/python3.10/dist-packages (from requests<3.0.0.dev0,>=2.18.0->google-api-core!=2.0.*,!=2.1.*,!=2.10.*,!=2.2.*,!=2.3.*,!=2.4.*,!=2.5.*,!=2.6.*,!=2.7.*,!=2.8.*,!=2.9.*,<3.0.0dev,>=1.34.0->google-api-core[grpc]!=2.0.*,!=2.1.*,!=2.10.*,!=2.2.*,!=2.3.*,!=2.4.*,!=2.5.*,!=2.6.*,!=2.7.*,!=2.8.*,!=2.9.*,<3.0.0dev,>=1.34.0->google-cloud-firestore) (3.4.0)\n",
            "Requirement already satisfied: idna<4,>=2.5 in /usr/local/lib/python3.10/dist-packages (from requests<3.0.0.dev0,>=2.18.0->google-api-core!=2.0.*,!=2.1.*,!=2.10.*,!=2.2.*,!=2.3.*,!=2.4.*,!=2.5.*,!=2.6.*,!=2.7.*,!=2.8.*,!=2.9.*,<3.0.0dev,>=1.34.0->google-api-core[grpc]!=2.0.*,!=2.1.*,!=2.10.*,!=2.2.*,!=2.3.*,!=2.4.*,!=2.5.*,!=2.6.*,!=2.7.*,!=2.8.*,!=2.9.*,<3.0.0dev,>=1.34.0->google-cloud-firestore) (3.10)\n",
            "Requirement already satisfied: urllib3<3,>=1.21.1 in /usr/local/lib/python3.10/dist-packages (from requests<3.0.0.dev0,>=2.18.0->google-api-core!=2.0.*,!=2.1.*,!=2.10.*,!=2.2.*,!=2.3.*,!=2.4.*,!=2.5.*,!=2.6.*,!=2.7.*,!=2.8.*,!=2.9.*,<3.0.0dev,>=1.34.0->google-api-core[grpc]!=2.0.*,!=2.1.*,!=2.10.*,!=2.2.*,!=2.3.*,!=2.4.*,!=2.5.*,!=2.6.*,!=2.7.*,!=2.8.*,!=2.9.*,<3.0.0dev,>=1.34.0->google-cloud-firestore) (2.2.3)\n",
            "Requirement already satisfied: certifi>=2017.4.17 in /usr/local/lib/python3.10/dist-packages (from requests<3.0.0.dev0,>=2.18.0->google-api-core!=2.0.*,!=2.1.*,!=2.10.*,!=2.2.*,!=2.3.*,!=2.4.*,!=2.5.*,!=2.6.*,!=2.7.*,!=2.8.*,!=2.9.*,<3.0.0dev,>=1.34.0->google-api-core[grpc]!=2.0.*,!=2.1.*,!=2.10.*,!=2.2.*,!=2.3.*,!=2.4.*,!=2.5.*,!=2.6.*,!=2.7.*,!=2.8.*,!=2.9.*,<3.0.0dev,>=1.34.0->google-cloud-firestore) (2024.8.30)\n"
          ]
        }
      ]
    },
    {
      "cell_type": "code",
      "source": [
        "from google.cloud import firestore\n",
        "import uuid\n",
        "\n",
        "db = firestore.Client(project='qwiklabs-gcp-00-3a6c7247b9bd')\n",
        "collection = db.collection('food-safety')\n",
        "\n",
        "for content, embedding in zip(chunked_content, chunked_embeddings):\n",
        "    doc_id = str(uuid.uuid4())\n",
        "    doc_ref = collection.document(doc_id)\n",
        "    doc_ref.set({\n",
        "        \"content\": content,\n",
        "        \"embedding\": embedding\n",
        "    })"
      ],
      "metadata": {
        "id": "6PJkaoBDtI6m",
        "executionInfo": {
          "status": "ok",
          "timestamp": 1730229500821,
          "user_tz": -120,
          "elapsed": 37061,
          "user": {
            "displayName": "",
            "userId": ""
          }
        }
      },
      "id": "6PJkaoBDtI6m",
      "execution_count": 35,
      "outputs": []
    },
    {
      "cell_type": "code",
      "source": [
        "# Use a variable called collection to create a reference to a collection named food-safety.\n",
        "collection = db.collection('food-safety')\n",
        "\n",
        "# Using a combination of our lists chunked_content and chunked_embeddings,\n",
        "# add a document to your collection for each of your chunked documents.\n",
        "for i, (content, embedding) in enumerate(zip(chunked_content, chunked_embeddings)):\n",
        "    doc_ref = collection.document(f\"doc_{i}\")\n",
        "    doc_ref.set({\n",
        "        \"content\": content,\n",
        "        \"embedding\": Vector(embedding)\n",
        "    })\n"
      ],
      "metadata": {
        "id": "HS6KLiSdoNgb",
        "executionInfo": {
          "status": "ok",
          "timestamp": 1730230103626,
          "user_tz": -120,
          "elapsed": 10387,
          "user": {
            "displayName": "",
            "userId": ""
          }
        }
      },
      "id": "HS6KLiSdoNgb",
      "execution_count": 37,
      "outputs": []
    },
    {
      "cell_type": "code",
      "source": [
        "# Create a vector index for your collection using your embedding field using gcloud firestore indexes command\n",
        "!gcloud firestore indexes composite create \\\n",
        "--collection-group=food-safety \\\n",
        "--query-scope=COLLECTION \\\n",
        "--field-config field-path=embedding,vector-config='{\"dimension\":\"768\", \"flat\": \"{}\"}' \\\n",
        "--project=PROJECT_ID\n",
        "\n"
      ],
      "metadata": {
        "colab": {
          "base_uri": "https://localhost:8080/"
        },
        "id": "4q9UrtvaoNh8",
        "executionInfo": {
          "status": "ok",
          "timestamp": 1730230114677,
          "user_tz": -120,
          "elapsed": 1228,
          "user": {
            "displayName": "",
            "userId": ""
          }
        },
        "outputId": "267147ca-939b-430d-d66a-e7ebd37f0ec0"
      },
      "id": "4q9UrtvaoNh8",
      "execution_count": 38,
      "outputs": [
        {
          "output_type": "stream",
          "name": "stdout",
          "text": [
            "\u001b[1;31mERROR:\u001b[0m (gcloud) The project property must be set to a valid project ID, not the project name [PROJECT_ID]\n",
            "To set your project, run:\n",
            "\n",
            "  $ gcloud config set project PROJECT_ID\n",
            "\n",
            "or to unset it, run:\n",
            "\n",
            "  $ gcloud config unset project\n"
          ]
        }
      ]
    },
    {
      "cell_type": "code",
      "source": [
        "\n",
        "# Create a function to receive a query, get its embedding, and compile a context\n",
        "# consisting of the text from the 5 documents with the most similar embeddings.\n",
        "def search_vector_database(query: str):\n",
        "  context = \"\"\n",
        "  query_embedding = embedding_model.embed_query(query)\n",
        "  vector_query = collection.find_nearest(\n",
        "    vector_field=\"embedding\",\n",
        "    query_vector=Vector(query_embedding),\n",
        "    distance_measure=DistanceMeasure.EUCLIDEAN,\n",
        "    limit=5,\n",
        "  )\n",
        "  docs = vector_query.stream()\n",
        "  context = [result.to_dict()['content'] for result in docs]\n",
        "  return context\n",
        "\n",
        "\n"
      ],
      "metadata": {
        "id": "9x608q3ooNkx",
        "executionInfo": {
          "status": "ok",
          "timestamp": 1730230572011,
          "user_tz": -120,
          "elapsed": 621,
          "user": {
            "displayName": "",
            "userId": ""
          }
        }
      },
      "id": "9x608q3ooNkx",
      "execution_count": 49,
      "outputs": []
    },
    {
      "cell_type": "code",
      "source": [
        "!gcloud firestore indexes composite create \\\n",
        "  --collection-group=food-safety \\\n",
        "  --query-scope=COLLECTION \\\n",
        "  --field-config field-path=content,order=ASCENDING \\\n",
        "  --field-config field-path=embedding,vector-config='{\"dimension\":\"768\", \"flat\": \"{}\"}' \\\n",
        "  --project=qwiklabs-gcp-00-3a6c7247b9bd"
      ],
      "metadata": {
        "colab": {
          "base_uri": "https://localhost:8080/"
        },
        "id": "XfbUauGUw2g1",
        "executionInfo": {
          "status": "ok",
          "timestamp": 1730230577226,
          "user_tz": -120,
          "elapsed": 1225,
          "user": {
            "displayName": "",
            "userId": ""
          }
        },
        "outputId": "e498f896-77c7-44be-e469-169c7e5fca9f"
      },
      "id": "XfbUauGUw2g1",
      "execution_count": 50,
      "outputs": [
        {
          "output_type": "stream",
          "name": "stdout",
          "text": [
            "\u001b[1;31mERROR:\u001b[0m (gcloud.firestore.indexes.composite.create) ALREADY_EXISTS: index already exists\n"
          ]
        }
      ]
    },
    {
      "cell_type": "code",
      "source": [
        " # Create a function to receive a query, get its embedding, and compile a context\n",
        "# consisting of the text from the 5 documents with the most similar embeddings.\n",
        "def search_vector_database(query: str):\n",
        "  context = \"\"\n",
        "  query_embedding = embedding_model.embed_query(query)\n",
        "  vector_query = collection.find_nearest(\n",
        "    vector_field=\"embedding\",\n",
        "    query_vector=Vector(query_embedding),\n",
        "    distance_measure=DistanceMeasure.EUCLIDEAN,\n",
        "    limit=5,\n",
        "  )\n",
        "  docs = vector_query.stream()\n",
        "  context = [result.to_dict()['content'] for result in docs]\n",
        "  return context\n"
      ],
      "metadata": {
        "id": "EEYDyC8IxLV8",
        "executionInfo": {
          "status": "ok",
          "timestamp": 1730230582350,
          "user_tz": -120,
          "elapsed": 718,
          "user": {
            "displayName": "",
            "userId": ""
          }
        }
      },
      "id": "EEYDyC8IxLV8",
      "execution_count": 51,
      "outputs": []
    },
    {
      "cell_type": "code",
      "source": [
        "!gcloud firestore indexes composite create \\\n",
        "  --project=qwiklabs-gcp-00-3a6c7247b9bd \\\n",
        "  --collection-group=food-safety \\\n",
        "  --query-scope=COLLECTION \\\n",
        "  --field-config=vector-config='{\"dimension\":\"768\",\"flat\": \"{}\"}',field-path=embedding"
      ],
      "metadata": {
        "colab": {
          "base_uri": "https://localhost:8080/"
        },
        "id": "rG8DFdgtx4vt",
        "executionInfo": {
          "status": "ok",
          "timestamp": 1730230746505,
          "user_tz": -120,
          "elapsed": 147741,
          "user": {
            "displayName": "",
            "userId": ""
          }
        },
        "outputId": "f6f6225f-de81-474b-acc9-5d701996a822"
      },
      "id": "rG8DFdgtx4vt",
      "execution_count": 53,
      "outputs": [
        {
          "output_type": "stream",
          "name": "stdout",
          "text": [
            "Create request issued\n",
            "Created index [CICAgJiUpoMJ].\n"
          ]
        }
      ]
    },
    {
      "cell_type": "code",
      "source": [
        "# Call the function with a sample query to confirm it's functionality.\n",
        "search_vector_database(\"How should I store food?\")\n"
      ],
      "metadata": {
        "colab": {
          "base_uri": "https://localhost:8080/"
        },
        "id": "w5-j68FPxdq9",
        "executionInfo": {
          "status": "ok",
          "timestamp": 1730230746505,
          "user_tz": -120,
          "elapsed": 4,
          "user": {
            "displayName": "",
            "userId": ""
          }
        },
        "outputId": "19f574dc-9f53-484d-8265-91105c08e54d"
      },
      "id": "w5-j68FPxdq9",
      "execution_count": 54,
      "outputs": [
        {
          "output_type": "execute_result",
          "data": {
            "text/plain": [
              "[' Store foods away from dripping condensate , at least six inches above the floor and with enough space between items to encourage air circulation. Freezer Storage Freezing is an excellent method for prolonging the shelf life of foods. By keeping foods frozen solid, the bacterial growth is minimal at best. However, if frozen foods are thawed and then refrozen, then harmful bacteria can reproduce to dangerous levels when thawed for the second time. In addition to that, the quality of the food is also affected. Never refreeze thawed foods, instead use them immediately. Keep the following rules in mind for freezer storage:  Use First In First Out method of stock rotation. All frozen foods should be frozen solid with temperature at 0°F or lower. Always use clean containers that are clearly labeled and marked, and have proper and secure lids. Allow adequate spacing between food containers to allow for proper air circulation. Never use the freezer for cooling hot foods. * * Tip: When receiving multiple items, always store the frozen foods first, then foods that are to be refrigerated, and finally the non perishable dry goods. Dry Storage Proper storage of dry foods such as cereals, flour, rice, starches, spices, canned goods, packaged foods and vegetables that do not require refrigeration ensures that these foods will still be usable when needed. Adequate storage space as well as low humidity (50% or less), and low temperatures (70 °F or less) are strongly recommended.',\n",
              " 'Only use food containers that are clean, non-absorbent and are made from food-grade material intended for such use. Containers made from metal may react with certain type of high acid foods such as sauerkraut, citrus juices, tomato sauce, etc. Plastic food-grade containers are the best choice for these types of foods. Containers made of copper, brass, tin and galvanized metal should not be used. The use of such products is prohibited. Re-using cardboard containers to store cooked foods is also a source of contamination. Lining containers with newspapers, menus or other publication before placing foods is also prohibited as chemical dyes from these can easily leach into foods. Storage Areas Foods should only be stored in designated areas. Storing foods in passageways, rest rooms, garbage areas, utility rooms, etc. would subject these to contamination. Raw foods must always be stored below and away from cooked foods to avoid cross contamination. Refrigerated Storage This type of storage is typically used for holding potentially hazardous foods as well as perishable foods for short periods of time—a few hours to a few days. An adequate number of efficient refrigerated units are required to store potentially hazardous cold foods. By keeping cold foods cold, the microorganisms that are found naturally on these foods are kept to a minimum. Cold temperature does not kill microorganisms, however, it slows down their growth. Pre-packaged cold foods must be stored at temperatures recommended by the manufacturer. This is especially important when dealing with vacuum packed foods, modified atmosphere packages and sous vide foods. Smoked fish is required by the Health Code to be stored at 38°F or below. Fresh meat, poultry and other potentially hazardous foods must be stored at 41°F or below, while frozen foods must be stored at 0°F or below.',\n",
              " 'In addition to the above, avoid sunlight as it may affect the quality of some foods. Following are some of the guidelines:  Use First In First Out method of stock rotation. Keep foods at least 6 inches off the floor. This allows for proper cleaning and to detect vermin activity. Keep foods in containers with tightly fitted lids. Keep dry storage areas well lighted and ventilated. Install shades on windows to prevent exposure from sunlight. Do not store foods under overhead water lines that may drip due to leaks or condensation. Do not store garbage in dry food storage areas. Make sure that dry storage area is vermin proof by sealing walls and baseboards and by repairing holes and other openings. * * Safety Tip: Storage of harmful chemicals in the food storage areas can create hazardous situations and hence is prohibited by law. All chemicals must be labeled properly and used in accordance to the instructions on the label. Pesticide use is prohibited unless used by a licensed pest control officer. Storage in Ice Whenever food items are to be stored in ice, care must be taken to ensure that water from the melted ice is constantly being drained so that the food remains on ice and not immersed in iced water.',\n",
              " 'Furthermore, it is improper to store food in ice machines or ice that will be later used for human consumption. Food should be stored at least six inches off the floor, away from walls and dripping pipes. Keep all food, bulk or otherwise, covered and safe from contamination. Check food daily and throw away any spoiled or contaminated food. Store cleaning, disinfecting, and other chemicals away from foods, clearly marked and in their original containers. Keep food refrigerated at a temperature of 41°F or below. Monitor temperatures regularly with a thermometer placed in the warmest part of the refrigerator. Keep all cooling compartments closed except when you are using them. Store food in a refrigerator in such a way that the air inside can circulate freely. Keep all refrigerated foods covered, and use up stored leftovers quickly. When dishes and utensils are sparkling clean, keep them that way by proper storage.',\n",
              " 'l Store food in vermin-proof containers — metal or glass  containers, with tightly fitted lids. l Remove dented, leaking, rusted, swollen or unlabeled canned goods. Cold Storage: l All PHFs must be stored at 41° F (Except smoked fish at 38° F and raw shell eggs at 45 ° F). l All cooked and ready-to-eat food must be stored away from and above raw food. l Do not store foods in quantities that exceed the storage unit’s  capacity. l Place a refrigeration thermometer in the warmest spot in the unit to measure ambient air temperature of the unit l Check for condensation that may contaminate food. l Keep frozen foods frozen at 0° F or lower. STORAGE ']"
            ]
          },
          "metadata": {},
          "execution_count": 54
        }
      ]
    }
  ],
  "metadata": {
    "kernelspec": {
      "display_name": "Python 3",
      "language": "python",
      "name": "python3"
    },
    "language_info": {
      "codemirror_mode": {
        "name": "ipython",
        "version": 3
      },
      "file_extension": ".py",
      "mimetype": "text/x-python",
      "name": "python",
      "nbconvert_exporter": "python",
      "pygments_lexer": "ipython3",
      "version": "3.10.10"
    },
    "colab": {
      "provenance": [],
      "name": "student-03-944476799160 (Oct 29, 2024, 8:45:23 PM)"
    }
  },
  "nbformat": 4,
  "nbformat_minor": 5
}